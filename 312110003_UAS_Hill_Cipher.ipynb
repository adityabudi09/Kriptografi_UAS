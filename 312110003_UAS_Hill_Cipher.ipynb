{
  "nbformat": 4,
  "nbformat_minor": 0,
  "metadata": {
    "colab": {
      "provenance": [],
      "authorship_tag": "ABX9TyMd4l5XhW/tOgfxUl/82zHm",
      "include_colab_link": true
    },
    "kernelspec": {
      "name": "python3",
      "display_name": "Python 3"
    },
    "language_info": {
      "name": "python"
    }
  },
  "cells": [
    {
      "cell_type": "markdown",
      "metadata": {
        "id": "view-in-github",
        "colab_type": "text"
      },
      "source": [
        "<a href=\"https://colab.research.google.com/github/adityabudi09/Kriptografi_UAS/blob/main/312110003_UAS_Hill_Cipher.ipynb\" target=\"_parent\"><img src=\"https://colab.research.google.com/assets/colab-badge.svg\" alt=\"Open In Colab\"/></a>"
      ]
    },
    {
      "cell_type": "code",
      "execution_count": 2,
      "metadata": {
        "colab": {
          "base_uri": "https://localhost:8080/"
        },
        "id": "pVHEf5TDzBIT",
        "outputId": "7f6bfea4-a839-47b3-ef57-e3757b3381eb"
      },
      "outputs": [
        {
          "output_type": "stream",
          "name": "stdout",
          "text": [
            "Menu:\n",
            "1. Enkripsi\n",
            "2. Dekripsi\n",
            "3. Keluar\n",
            "Pilih 1 untuk mengenkripsi, 2 untuk mendekripsi, atau 3 untuk keluar: 1\n",
            "Masukkan Matriks Kunci (contoh: 17 17 5; 21 18 21; 2 2 19)\n",
            "Baris ke-1: 3 9 7\n",
            "Baris ke-2: 16 9 12\n",
            "Baris ke-3: 9 11 7\n",
            "Masukkan Plain Text: palestine\n",
            "\n",
            "Encrypted Text: sievmdnhj\n",
            "Menu:\n",
            "1. Enkripsi\n",
            "2. Dekripsi\n",
            "3. Keluar\n",
            "Pilih 1 untuk mengenkripsi, 2 untuk mendekripsi, atau 3 untuk keluar: 3\n",
            "Terima kasih telah menggunakan program ini.\n"
          ]
        }
      ],
      "source": [
        "import numpy as np\n",
        "import sympy\n",
        "\n",
        "# Fungsi untuk menghitung invers modulo 26\n",
        "def modulo_multiplicative_inverse(A, M):\n",
        "    for i in range(1, M):\n",
        "        if (A * i) % M == 1:\n",
        "            return i\n",
        "    return -1\n",
        "\n",
        "# Fungsi untuk mengenkripsi pesan\n",
        "def encrypt_hill(plain_text, key_matrix):\n",
        "    dimension = len(key_matrix)\n",
        "    encrypted_text = \"\"\n",
        "\n",
        "    for index in range(0, len(plain_text), dimension):\n",
        "        vector = []\n",
        "        for j in range(dimension):\n",
        "            if index + j < len(plain_text):\n",
        "                vector.append(ord(plain_text[index + j]) - ord('a'))\n",
        "            else:\n",
        "                vector.append(0)\n",
        "        vector = np.array(vector).reshape(dimension, 1)\n",
        "        result = (key_matrix @ vector) % 26\n",
        "        for j in range(dimension):\n",
        "            encrypted_text += chr(result[j, 0] + ord('a'))\n",
        "\n",
        "    return encrypted_text\n",
        "\n",
        "# Fungsi untuk mendekripsi pesan\n",
        "def decrypt_hill(encrypted_text, key_matrix):\n",
        "    dimension = len(key_matrix)\n",
        "    decrypted_text = \"\"\n",
        "    det = int(np.round(np.linalg.det(key_matrix))) % 26\n",
        "    inverse_det = modulo_multiplicative_inverse(det, 26)\n",
        "    adjugate = (sympy.Matrix(key_matrix).adjugate() % 26)\n",
        "    inverse_key = (inverse_det * adjugate) % 26\n",
        "\n",
        "    for index in range(0, len(encrypted_text), dimension):\n",
        "        vector = []\n",
        "        for j in range(dimension):\n",
        "            if index + j < len(encrypted_text):\n",
        "                vector.append(ord(encrypted_text[index + j]) - ord('a'))\n",
        "            else:\n",
        "                vector.append(0)\n",
        "        vector = np.array(vector).reshape(dimension, 1)\n",
        "        result = (inverse_key @ vector) % 26\n",
        "        for j in range(dimension):\n",
        "            decrypted_text += chr(result[j, 0] + ord('a'))\n",
        "\n",
        "    return decrypted_text\n",
        "\n",
        "while True:\n",
        "    print(\"Menu:\")\n",
        "    print(\"1. Enkripsi\")\n",
        "    print(\"2. Dekripsi\")\n",
        "    print(\"3. Keluar\")\n",
        "    choice = input(\"Pilih 1 untuk mengenkripsi, 2 untuk mendekripsi, atau 3 untuk keluar: \")\n",
        "\n",
        "    if choice == '1':\n",
        "        # Input key matrix dari pengguna\n",
        "        print(\"Masukkan Matriks Kunci (contoh: 17 17 5; 21 18 21; 2 2 19)\")\n",
        "        key_input = []\n",
        "        for i in range(3):\n",
        "            row = list(map(int, input(\"Baris ke-\" + str(i + 1) + \": \").split()))\n",
        "            key_input.append(row)\n",
        "        key_matrix = np.matrix(key_input)\n",
        "\n",
        "        # Input plain text dari pengguna\n",
        "        plain_text = input(\"Masukkan Plain Text: \").lower()  # Konversi teks ke huruf kecil\n",
        "\n",
        "        # Enkripsi pesan\n",
        "        encrypted_text = encrypt_hill(plain_text, key_matrix)\n",
        "        print(\"\\nEncrypted Text: \" + encrypted_text)\n",
        "\n",
        "    elif choice == '2':\n",
        "        # Input key matrix dari pengguna\n",
        "        print(\"Masukkan Matriks Kunci (contoh: 17 17 5; 21 18 21; 2 2 19)\")\n",
        "        key_input = []\n",
        "        for i in range(3):\n",
        "            row = list(map(int, input(\"Baris ke-\" + str(i + 1) + \": \").split()))\n",
        "            key_input.append(row)\n",
        "        key_matrix = np.matrix(key_input)\n",
        "\n",
        "        # Input encrypted text dari pengguna\n",
        "        encrypted_text = input(\"Masukkan Encrypted Text: \").lower()  # Konversi teks ke huruf kecil\n",
        "\n",
        "        # Dekripsi pesan\n",
        "        decrypted_text = decrypt_hill(encrypted_text, key_matrix)\n",
        "        print(\"\\nDecrypted Text: \" + decrypted_text)\n",
        "\n",
        "    elif choice == '3':\n",
        "        print(\"Terima kasih telah menggunakan program ini.\")\n",
        "        break\n",
        "\n",
        "    else:\n",
        "        print(\"Pilihan tidak valid. Silakan pilih 1, 2, atau 3.\")"
      ]
    }
  ]
}
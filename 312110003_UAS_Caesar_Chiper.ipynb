{
  "nbformat": 4,
  "nbformat_minor": 0,
  "metadata": {
    "colab": {
      "provenance": [],
      "authorship_tag": "ABX9TyOba9EXMo4wDxXPwI0YeAEK",
      "include_colab_link": true
    },
    "kernelspec": {
      "name": "python3",
      "display_name": "Python 3"
    },
    "language_info": {
      "name": "python"
    }
  },
  "cells": [
    {
      "cell_type": "markdown",
      "metadata": {
        "id": "view-in-github",
        "colab_type": "text"
      },
      "source": [
        "<a href=\"https://colab.research.google.com/github/adityabudi09/Kriptografi_UAS/blob/main/312110003_UAS_Caesar_Chiper.ipynb\" target=\"_parent\"><img src=\"https://colab.research.google.com/assets/colab-badge.svg\" alt=\"Open In Colab\"/></a>"
      ]
    },
    {
      "cell_type": "code",
      "execution_count": 1,
      "metadata": {
        "colab": {
          "base_uri": "https://localhost:8080/"
        },
        "id": "b16HrWNIy6TZ",
        "outputId": "5618c774-8678-4e6f-ee02-46a912d57478"
      },
      "outputs": [
        {
          "output_type": "stream",
          "name": "stdout",
          "text": [
            "Masukkan teks yang ingin di enkripsi: budi\n",
            "Masukkan pergeseran (bilangan bulat): 4\n",
            "Teks terenkripsi: fyhm\n"
          ]
        }
      ],
      "source": [
        "def caesar_cipher(text, shift):\n",
        "    result = \"\"\n",
        "\n",
        "    for char in text:\n",
        "        if char.isalpha():\n",
        "            is_upper = char.isupper()\n",
        "            char = char.lower()\n",
        "            shifted = ord(char) + shift - ord('a')\n",
        "            shifted = shifted % 26 + ord('a')\n",
        "            if is_upper:\n",
        "                shifted = chr(shifted).upper()\n",
        "            else:\n",
        "                shifted = chr(shifted)\n",
        "            result += shifted\n",
        "        else:\n",
        "            result += char\n",
        "\n",
        "    return result\n",
        "\n",
        "# Masukkan teks yang ingin dienkripsi dan pergeseran\n",
        "plaintext = input(\"Masukkan teks yang ingin di enkripsi: \")\n",
        "shift = int(input(\"Masukkan pergeseran (bilangan bulat): \"))\n",
        "\n",
        "encrypted_text = caesar_cipher(plaintext, shift)\n",
        "print(\"Teks terenkripsi:\", encrypted_text)"
      ]
    }
  ]
}
{
  "nbformat": 4,
  "nbformat_minor": 0,
  "metadata": {
    "colab": {
      "provenance": [],
      "authorship_tag": "ABX9TyOgGyTWcJJX4fLinx3KCPSs",
      "include_colab_link": true
    },
    "kernelspec": {
      "name": "python3",
      "display_name": "Python 3"
    },
    "language_info": {
      "name": "python"
    }
  },
  "cells": [
    {
      "cell_type": "markdown",
      "metadata": {
        "id": "view-in-github",
        "colab_type": "text"
      },
      "source": [
        "<a href=\"https://colab.research.google.com/github/adityabudi09/Kriptografi_UAS/blob/main/312110003_UAS_Affine_Cipher.ipynb\" target=\"_parent\"><img src=\"https://colab.research.google.com/assets/colab-badge.svg\" alt=\"Open In Colab\"/></a>"
      ]
    },
    {
      "cell_type": "code",
      "execution_count": 1,
      "metadata": {
        "colab": {
          "base_uri": "https://localhost:8080/"
        },
        "id": "bPZk00IVzNE3",
        "outputId": "bee1f679-a940-41e0-d4ca-921b9506bd20"
      },
      "outputs": [
        {
          "output_type": "stream",
          "name": "stdout",
          "text": [
            "Plain Text : Dwi Aditya Budi\n",
            "Encrypted Text : Hwa Ghavog Peha\n",
            "Decrypted Text : Dwi Aditya Budi\n"
          ]
        }
      ],
      "source": [
        "def egcd(a, b):\n",
        "    if a == 0:\n",
        "        return (b, 0, 1)\n",
        "    else:\n",
        "        g, x, y = egcd(b % a, a)\n",
        "        return (g, y - (b // a) * x, x)\n",
        "\n",
        "def modinv(a, m):\n",
        "    g, x, y = egcd(a, m)\n",
        "    if g != 1:\n",
        "        raise Exception('Modular inverse does not exist')\n",
        "    else:\n",
        "        return x % m\n",
        "\n",
        "def affine_encrypt(text, key):\n",
        "    a, b = key\n",
        "    result = \"\"\n",
        "    for char in text:\n",
        "        if char.isalpha():\n",
        "            if char.isupper():\n",
        "                result += chr((a * (ord(char) - ord('A')) + b) % 26 + ord('A'))\n",
        "            else:\n",
        "                result += chr((a * (ord(char) - ord('a')) + b) % 26 + ord('a'))\n",
        "        else:\n",
        "            result += char\n",
        "    return result\n",
        "\n",
        "def affine_decrypt(ciphertext, key):\n",
        "    a, b = key\n",
        "    result = \"\"\n",
        "    for char in ciphertext:\n",
        "        if char.isalpha():\n",
        "            if char.isupper():\n",
        "                result += chr((modinv(a, 26) * (ord(char) - ord('A') - b)) % 26 + ord('A'))\n",
        "            else:\n",
        "                result += chr((modinv(a, 26) * (ord(char) - ord('a') - b)) % 26 + ord('a'))\n",
        "        else:\n",
        "            result += char\n",
        "    return result\n",
        "\n",
        "text = \"Dwi Aditya Budi\"\n",
        "key = (9, 6)\n",
        "encrypted_text = affine_encrypt(text, key)\n",
        "decrypted_text = affine_decrypt(encrypted_text, key)\n",
        "\n",
        "print(\"Plain Text : \" + text)\n",
        "print(\"Encrypted Text : \" + encrypted_text)\n",
        "print(\"Decrypted Text : \" + decrypted_text)"
      ]
    }
  ]
}